{
 "cells": [
  {
   "cell_type": "markdown",
   "metadata": {},
   "source": [
    "继续挑战\n",
    "\n",
    "---\n",
    "### 第8题地址[integrity.html](http://www.pythonchallenge.com/pc/def/integrity.html)\n",
    "* <img src=\"http://www.pythonchallenge.com/pc/def/integrity.jpg\" alt=\"integrity.jpg\" width=\"30%\" height=\"30%\">\n",
    "* 网页标题是`working hard?`，题目是`Where is the missing link?`，[源码](view-source:http://www.pythonchallenge.com/pc/def/integrity.html)中有两行隐藏信息：\n",
    "> un: 'BZh91AY&SYA\\xaf\\x82\\r\\x00\\x00\\x01\\x01\\x80\\x02\\xc0\\x02\\x00 \\x00!\\x9ah3M\\x07<]\\xc9\\x14\\xe1BA\\x06\\xbe\\x084'<br>\n",
    "> pw: 'BZh91AY&SY\\x94\\$|\\x0e\\x00\\x00\\x00\\x81\\x00\\x03\\$ \\x00!\\x9ah3M\\x13<]\\xc9\\x14\\xe1BBP\\x91\\xf08'"
   ]
  },
  {
   "cell_type": "markdown",
   "metadata": {},
   "source": [
    "图片上是以一个`<area>`区域画出来一个超链接，点击之后提示要输入用户名和密码。这应该是题目的基本意思。<br>\n",
    "而这个区域刚好描绘的是图中的蜜蜂，结合`bee`和网页标题`working hard`，应该意思是`busy`。<br>\n",
    "再看看源码中的隐藏信息，应该指的是`username`和`password`，估计就是提示要输入的部分。"
   ]
  },
  {
   "cell_type": "markdown",
   "metadata": {},
   "source": [
    "直接拿这一堆乱码去试肯定是行不通的<del>别说，我还真试了几次</del>。<br>\n",
    "正确做法应该是要解读这个`busy`的意思，结合这个乱码（`BZh`开头），应该指的是`bzip2`压缩编码，python对应有`bz2`的包可以简易处理。"
   ]
  },
  {
   "cell_type": "code",
   "execution_count": 1,
   "metadata": {},
   "outputs": [
    {
     "name": "stdout",
     "output_type": "stream",
     "text": [
      "username: huge\n",
      "password: file\n"
     ]
    }
   ],
   "source": [
    "from bz2 import decompress\n",
    "print('username:', decompress(b'BZh91AY&SYA\\xaf\\x82\\r\\x00\\x00\\x01\\x01\\x80\\x02\\xc0\\x02\\x00 \\x00!\\x9ah3M\\x07<]\\xc9\\x14\\xe1BA\\x06\\xbe\\x084').decode())\n",
    "print('password:', decompress(b'BZh91AY&SY\\x94$|\\x0e\\x00\\x00\\x00\\x81\\x00\\x03$ \\x00!\\x9ah3M\\x13<]\\xc9\\x14\\xe1BBP\\x91\\xf08').decode())"
   ]
  },
  {
   "cell_type": "markdown",
   "metadata": {},
   "source": [
    "将解码后的结果输入到提示框里面点确定，来到下一题[good.html](http://www.pythonchallenge.com/pc/return/good.html)"
   ]
  },
  {
   "cell_type": "markdown",
   "metadata": {},
   "source": [
    "### 总结：题目跟图像处理无关，倒是又介绍了一种压缩编码和对应的python包。\n",
    "###### 本题代码地址[8_integrity.ipynb](https://github.com/StevenPZChan/pythonchallenge/blob/notebook/nbfiles/8_integrity.ipynb)"
   ]
  }
 ],
 "metadata": {
  "kernelspec": {
   "display_name": "Python 3",
   "language": "python",
   "name": "python3"
  },
  "language_info": {
   "codemirror_mode": {
    "name": "ipython",
    "version": 3
   },
   "file_extension": ".py",
   "mimetype": "text/x-python",
   "name": "python",
   "nbconvert_exporter": "python",
   "pygments_lexer": "ipython3",
   "version": "3.7.0"
  }
 },
 "nbformat": 4,
 "nbformat_minor": 2
}
