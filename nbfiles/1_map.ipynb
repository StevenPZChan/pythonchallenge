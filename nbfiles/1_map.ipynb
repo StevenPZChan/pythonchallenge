{
 "cells": [
  {
   "cell_type": "markdown",
   "metadata": {},
   "source": [
    "进入正式的挑战了！\n",
    "\n",
    "---\n",
    "### 第一题的地址在[map.html](http://www.pythonchallenge.com/pc/def/map.html)\n",
    "* <img src=\"http://www.pythonchallenge.com/pc/def/map.jpg\" alt=\"map.jpg\" width=\"30%\" height=\"30%\">\n",
    "* 网页标题是`What about making trans?`\n",
    "* 题目内容是`everybody thinks twice before solving this.`和一堆乱码\n",
    "> g fmnc wms bgblr rpylqjyrc gr zw fylb. rfyrq ufyr amknsrcpq ypc dmp. bmgle gr gl zw fylb gq glcddgagclr ylb rfyr'q ufw rfgq rcvr gq qm jmle. sqgle qrpgle.kyicrpylq() gq pcamkkclbcb. lmu ynnjw ml rfc spj.\n",
    "* 剩下的是通用tips：`要用到各种提示、尽可能挖掘数据、不要被剧透、blabla`"
   ]
  },
  {
   "cell_type": "markdown",
   "metadata": {},
   "source": [
    "乍一看很无头绪，事实上题目内容就这么多，尽可能都利用起来。<br>\n",
    "答案肯定就藏在这堆乱码里面。<br>\n",
    "结合网页标题和图片，先尝试做几个字符转换："
   ]
  },
  {
   "cell_type": "code",
   "execution_count": 1,
   "metadata": {},
   "outputs": [
    {
     "name": "stdout",
     "output_type": "stream",
     "text": [
      "g fmnc wms bgblr rpylqjyrc gr zw fylb. rfyrq ufyr ammnsrcpq ypc dmp. bmglg gr gl zw fylb gq glcddgagclr ylb rfyr'q ufw rfgq rcvr gq qm jmlg. sqglg qrpglg.myicrpylq() gq pcammmclbcb. lmu ynnjw ml rfc spj.\n"
     ]
    }
   ],
   "source": [
    "encoded_str = \"g fmnc wms bgblr rpylqjyrc gr zw fylb. rfyrq ufyr amknsrcpq ypc \\\n",
    "dmp. bmgle gr gl zw fylb gq glcddgagclr ylb rfyr'q ufw rfgq rcvr gq qm jmle. \\\n",
    "sqgle qrpgle.kyicrpylq() gq pcamkkclbcb. lmu ynnjw ml rfc spj.\"\n",
    "\n",
    "mapping_dict = {}\n",
    "mapping_dict['k'] = 'm'\n",
    "mapping_dict['o'] = 'q'\n",
    "mapping_dict['e'] = 'g'\n",
    "\n",
    "decoded_str = ''.join(mapping_dict.get(c, c) for c in encoded_str)\n",
    "print(decoded_str)"
   ]
  },
  {
   "cell_type": "markdown",
   "metadata": {},
   "source": [
    "呃，还是一堆乱码。<br>\n",
    "结合这个`trans`和`map`一想，K到M是往后两个字母，O到Q是往后两个字母，E到G也是往后两个字母，那么是不是这堆乱码全部做这样的转换呢？\n",
    "结果如下："
   ]
  },
  {
   "cell_type": "code",
   "execution_count": 2,
   "metadata": {},
   "outputs": [
    {
     "name": "stdout",
     "output_type": "stream",
     "text": [
      "i hope you didnt tr{nsl{te it |y h{nd. th{ts wh{t computers {re for. doing it in |y h{nd is inefficient {nd th{t's why this text is so long. using string.m{ketr{ns() is recommended. now {pply on the url.\n"
     ]
    }
   ],
   "source": [
    "mapping_dict = {}\n",
    "for a in range(ord('a'), ord('z') + 1):\n",
    "    mapping_dict[chr(a)] = chr(a + 2)\n",
    "    \n",
    "decoded_str = ''.join(mapping_dict.get(c, c) for c in encoded_str)\n",
    "print(decoded_str)"
   ]
  },
  {
   "cell_type": "markdown",
   "metadata": {},
   "source": [
    "有点像那么回事了！<br>\n",
    "不过有些字符不太对，仔细一看，应该是y和z要循环转成a和b。\n",
    "> 这里科普一下恺撒密码：<br>\n",
    "> 在密码学中，恺撒密码（英语：Caesar cipher），或称恺撒加密、恺撒变换、变换加密，是一种最简单且最广为人知的加密技术。它是一种替换加密的技术，明文中的所有字母都在字母表上向后（或向前）按照一个固定数目进行偏移后被替换成密文。例如，当偏移量是3的时候，所有的字母A将被替换成D，B变成E，以此类推。这个加密方法是以罗马共和时期恺撒的名字命名的，当年恺撒曾用此方法与其将军们进行联系。\n",
    "> ###### From [baike.baidu](https://baike.baidu.com/item/%E6%81%BA%E6%92%92%E5%AF%86%E7%A0%81/4905284)"
   ]
  },
  {
   "cell_type": "code",
   "execution_count": 3,
   "metadata": {},
   "outputs": [
    {
     "name": "stdout",
     "output_type": "stream",
     "text": [
      "i hope you didnt translate it by hand. thats what computers are for. doing it in by hand is inefficient and that's why this text is so long. using string.maketrans() is recommended. now apply on the url.\n"
     ]
    }
   ],
   "source": [
    "mapping_dict = {}\n",
    "for a in range(ord('a'), ord('y')):\n",
    "    mapping_dict[chr(a)] = chr(a + 2)\n",
    "mapping_dict['y'] = 'a'\n",
    "mapping_dict['z'] = 'b'\n",
    "    \n",
    "decoded_str = ''.join(mapping_dict.get(c, c) for c in encoded_str)\n",
    "print(decoded_str)"
   ]
  },
  {
   "cell_type": "markdown",
   "metadata": {},
   "source": [
    "翻译一下就是告诉我们不要手动一个一个字母地翻译，要使用计算机。这也是计算机的用处。还推荐我们使用`string.maketrans()`这个函数。<br>\n",
    "我们完整更新下代码：（其中`string`是旧版本python的类，现在我们用`str`就可以了）"
   ]
  },
  {
   "cell_type": "code",
   "execution_count": 4,
   "metadata": {},
   "outputs": [
    {
     "name": "stdout",
     "output_type": "stream",
     "text": [
      "i hope you didnt translate it by hand. thats what computers are for. doing it in by hand is inefficient and that's why this text is so long. using string.maketrans() is recommended. now apply on the url.\n",
      "ocr\n"
     ]
    }
   ],
   "source": [
    "intab = 'abcdefghijklmnopqrstuvwxyz'\n",
    "outtab = 'cdefghijklmnopqrstuvwxyzab'\n",
    "trans = str.maketrans(intab, outtab)\n",
    "decoded_str = encoded_str.translate(trans)\n",
    "print(decoded_str)\n",
    "print('map'.translate(trans))"
   ]
  },
  {
   "cell_type": "markdown",
   "metadata": {},
   "source": [
    "`maketrans()`函数确实简洁不少，返回的对象作为`translate()`函数的参数，还可以重用，美滋滋。<br>\n",
    "上面代码已经完成了题目信息的最后一句`now apply on the url`，<del>不知道有没人尝试`'url'.translate(trans)`2333</del>，将结果输入到URL地址上[ocr.html](http://www.pythonchallenge.com/pc/def/ocr.html)，页面打开了，果然是下一题。"
   ]
  },
  {
   "cell_type": "markdown",
   "metadata": {},
   "source": [
    "### 总结：题目还不难，也回忆起了小时候玩的密码游戏。python内置的一些函数很不错的，要多用用。\n",
    "###### 本题代码地址[1_map.ipynb](https://github.com/StevenPZChan/pythonchallenge/blob/notebook/nbfiles/1_map.ipynb)"
   ]
  }
 ],
 "metadata": {
  "kernelspec": {
   "display_name": "Python 3",
   "language": "python",
   "name": "python3"
  },
  "language_info": {
   "codemirror_mode": {
    "name": "ipython",
    "version": 3
   },
   "file_extension": ".py",
   "mimetype": "text/x-python",
   "name": "python",
   "nbconvert_exporter": "python",
   "pygments_lexer": "ipython3",
   "version": "3.6.6"
  }
 },
 "nbformat": 4,
 "nbformat_minor": 2
}
