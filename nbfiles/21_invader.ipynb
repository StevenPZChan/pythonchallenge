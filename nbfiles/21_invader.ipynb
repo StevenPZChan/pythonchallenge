{
 "cells": [
  {
   "cell_type": "markdown",
   "metadata": {},
   "source": [
    "继续挑战\n",
    "\n",
    "---\n",
    "### 第21题为第20题对[unreal.jpg](http://www.pythonchallenge.com/pc/hex/unreal.jpg)用特定的`Range`请求得到的压缩包内容\n",
    "* 压缩包里面有一个`package.pack`文件，题目`readme.txt`内容为：\n",
    "> * We used to play this game when we were kids\n",
    "> * When I had no idea what to do, I looked backwards."
   ]
  },
  {
   "cell_type": "markdown",
   "metadata": {},
   "source": [
    "先重复上一题的步骤把`package.pack`解压出来看看："
   ]
  },
  {
   "cell_type": "code",
   "execution_count": 1,
   "metadata": {},
   "outputs": [
    {
     "name": "stdout",
     "output_type": "stream",
     "text": [
      "b'x\\x9c\\x00\\n@\\xf5\\xbfx\\x9c\\x00\\x07@\\xf8\\xbfx\\x9c\\x00\\x06@\\xf9'\n"
     ]
    }
   ],
   "source": [
    "from io import BytesIO\n",
    "from zipfile import ZipFile\n",
    "import requests\n",
    "\n",
    "with requests.Session() as sess:\n",
    "    sess.auth = ('butter', 'fly')\n",
    "    header = {'Range': 'bytes=1152983631-'}\n",
    "    response = sess.get('http://www.pythonchallenge.com/pc/hex/unreal.jpg', headers=header)\n",
    "\n",
    "with ZipFile(BytesIO(response.content), 'r') as f:\n",
    "    with f.open('package.pack', 'r', pwd=b'invader'[::-1]) as f_pack:\n",
    "        package = f_pack.read()\n",
    "        \n",
    "print(package[:20])"
   ]
  },
  {
   "cell_type": "markdown",
   "metadata": {},
   "source": [
    "查了下`b'x\\x9c\\x00`开头的是`zlib`压缩格式，我们来解包看看："
   ]
  },
  {
   "cell_type": "code",
   "execution_count": 2,
   "metadata": {
    "scrolled": false
   },
   "outputs": [
    {
     "name": "stdout",
     "output_type": "stream",
     "text": [
      "b'x\\x9c\\x00\\x07@\\xf8\\xbfx\\x9c\\x00\\x06@\\xf9\\xbfx\\x9c\\x00\\xff?\\x00'\n"
     ]
    }
   ],
   "source": [
    "import zlib\n",
    "\n",
    "temp = zlib.decompress(package)\n",
    "print(temp[:20])"
   ]
  },
  {
   "cell_type": "markdown",
   "metadata": {},
   "source": [
    "又玩这种循环迭代的游戏了！那我们继续："
   ]
  },
  {
   "cell_type": "code",
   "execution_count": 3,
   "metadata": {},
   "outputs": [
    {
     "name": "stdout",
     "output_type": "stream",
     "text": [
      "b'BZh91AY&SY\\x91\\xe8/+\\x00v\\xa9\\x7f\\xff\\xff'\n",
      "error('Error -3 while decompressing data: incorrect header check')\n"
     ]
    }
   ],
   "source": [
    "import zlib\n",
    "\n",
    "data = package\n",
    "while True:\n",
    "    try:\n",
    "        data = zlib.decompress(data)\n",
    "    except Exception as e:\n",
    "        print(data[:20])\n",
    "        print(f'{e!r}')\n",
    "        break"
   ]
  },
  {
   "cell_type": "markdown",
   "metadata": {},
   "source": [
    "咦？切换到了`BZh`开头的`bzip2`压缩格式了，我们改一下继续："
   ]
  },
  {
   "cell_type": "code",
   "execution_count": 4,
   "metadata": {},
   "outputs": [
    {
     "name": "stdout",
     "output_type": "stream",
     "text": [
      "b'\\x80\\x8d\\x96\\xcb\\xb5r\\xa7\\x00\\x06Xz\\xdafO\\x19\\xee\\x84k\\xa4d'\n",
      "OSError('Invalid data stream')\n"
     ]
    }
   ],
   "source": [
    "import bz2\n",
    "import zlib\n",
    "\n",
    "data = package\n",
    "while True:\n",
    "    try:\n",
    "        data = zlib.decompress(data)\n",
    "    except:\n",
    "        try:\n",
    "            data = bz2.decompress(data)\n",
    "        except Exception as e:\n",
    "            print(data[:20])\n",
    "            print(f'{e!r}')\n",
    "            break"
   ]
  },
  {
   "cell_type": "markdown",
   "metadata": {},
   "source": [
    "这回不知道是什么东西了。。。来，我们开始读题。<br>\n",
    "说这是我们小时候会玩的游戏，我们刚才是在反复解压同一个东西，估计这个游戏就像是一个**东西**在小伙伴里面不断地传递，每个人会给它用某种方式（*压缩*）**包装**一层再继续。我们在做的事情就是解压拿到最原始的内容。没毛病，但是现在我们卡壳了。<br>\n",
    "再看看第二句话，当我们卡壳的时候，会试着**倒过来看**："
   ]
  },
  {
   "cell_type": "code",
   "execution_count": 5,
   "metadata": {},
   "outputs": [
    {
     "name": "stdout",
     "output_type": "stream",
     "text": [
      "b'x\\x9c\\x00\\x0c@\\xf3\\xbfx\\x9c\\x00\\x05@\\xfa\\xbfx\\x9c\\x00\\x05@\\xfa'\n"
     ]
    }
   ],
   "source": [
    "print(data[::-1][:20])"
   ]
  },
  {
   "cell_type": "markdown",
   "metadata": {},
   "source": [
    "#### 果然有用！！\n",
    "我们改一下继续："
   ]
  },
  {
   "cell_type": "code",
   "execution_count": 6,
   "metadata": {},
   "outputs": [
    {
     "name": "stdout",
     "output_type": "stream",
     "text": [
      "b'look at your logs'\n",
      "look at your logs\n"
     ]
    }
   ],
   "source": [
    "import bz2\n",
    "import zlib\n",
    "\n",
    "data = package\n",
    "try_count = 0\n",
    "while True:\n",
    "    try:\n",
    "        data = zlib.decompress(data)\n",
    "    except:\n",
    "        try:\n",
    "            data = bz2.decompress(data)\n",
    "        except:\n",
    "            data = data[::-1]\n",
    "            try_count += 1\n",
    "            if try_count == 3:\n",
    "                print(data[:20])\n",
    "                break\n",
    "            continue\n",
    "    try_count = 0\n",
    "print(data.decode())"
   ]
  },
  {
   "cell_type": "markdown",
   "metadata": {},
   "source": [
    "解压出来最原好的内容了！但是叫我们看日志，看来要加上一些打印来记录我们的解压操作了。\n",
    "\n",
    "---\n",
    "\n",
    "在我们继续之前，首先是我发现了一个叫`python-magic`的库，可以知道文件内容的具体格式，不用我们总是去查找。至少可以优化一下上面那段那么丑的代码吧。"
   ]
  },
  {
   "cell_type": "code",
   "execution_count": 7,
   "metadata": {},
   "outputs": [
    {
     "name": "stdout",
     "output_type": "stream",
     "text": [
      "application/zlib\n"
     ]
    }
   ],
   "source": [
    "from magic import Magic\n",
    "\n",
    "magic_t = Magic(mime=True)\n",
    "print(magic_t.from_buffer(package))"
   ]
  },
  {
   "cell_type": "markdown",
   "metadata": {},
   "source": [
    "其次是我们有三种不同的操作，需要定义其打印的字符：\n",
    "\n",
    "| 操作 | 打印字符 |\n",
    "| :---: | :---: |\n",
    "| zlib | '.' |\n",
    "| bz2 | '0' |\n",
    "| 倒序 | '\\n' |"
   ]
  },
  {
   "cell_type": "code",
   "execution_count": 8,
   "metadata": {},
   "outputs": [
    {
     "name": "stdout",
     "output_type": "stream",
     "text": [
      "......000..........000......00000000....00000000....0000000000..00000000\n",
      "....0000000......0000000....000000000...000000000...000000000...000000000\n",
      "...00.....00....00.....00...00......00..00......00..00..........00......00\n",
      "..00...........00.......00..00......00..00......00..00..........00......00\n",
      "..00...........00.......00..000000000...000000000...00000000....000000000\n",
      "..00...........00.......00..00000000....00000000....00000000....00000000.\n",
      "..00...........00.......00..00..........00..........00..........00...00.\n",
      "...00.....00....00.....00...00..........00..........00..........00....00.\n",
      "....0000000......0000000....00..........00..........000000000...00.....00.\n",
      "......000..........000......00..........00..........0000000000..00......00\n",
      "look at your logs\n"
     ]
    }
   ],
   "source": [
    "import bz2\n",
    "import zlib\n",
    "from magic import Magic\n",
    "\n",
    "magic_t = Magic(mime=True)\n",
    "\n",
    "data = package\n",
    "while True:\n",
    "    mime = magic_t.from_buffer(data)\n",
    "    if mime in ('application/zlib', 'application/x-tex-tfm'):\n",
    "        data = zlib.decompress(data)\n",
    "        print('.', end='')\n",
    "    elif mime == 'application/x-bzip2':\n",
    "        data = bz2.decompress(data)\n",
    "        print('0', end='')\n",
    "    else:\n",
    "        data = data[::-1]\n",
    "        print()\n",
    "        if mime == 'text/plain':\n",
    "            break\n",
    "print(data.decode())"
   ]
  },
  {
   "cell_type": "markdown",
   "metadata": {},
   "source": [
    "好大一个`COPPER`！将地址改为[copper.html](http://www.pythonchallenge.com/pc/hex/copper.html)，来到了下一题。"
   ]
  },
  {
   "cell_type": "markdown",
   "metadata": {},
   "source": [
    "### 总结：这一题是一些常用的压缩格式的应用。还发现了好用的格式探测器`python-magic`库。\n",
    "###### 本题代码地址[21_invader.ipynb](https://github.com/StevenPZChan/pythonchallenge/blob/notebook/nbfiles/21_invader.ipynb)"
   ]
  }
 ],
 "metadata": {
  "kernelspec": {
   "display_name": "Python 3",
   "language": "python",
   "name": "python3"
  },
  "language_info": {
   "codemirror_mode": {
    "name": "ipython",
    "version": 3
   },
   "file_extension": ".py",
   "mimetype": "text/x-python",
   "name": "python",
   "nbconvert_exporter": "python",
   "pygments_lexer": "ipython3",
   "version": "3.7.6"
  }
 },
 "nbformat": 4,
 "nbformat_minor": 2
}
