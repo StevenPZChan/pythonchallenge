{
 "cells": [
  {
   "cell_type": "markdown",
   "metadata": {},
   "source": [
    "继续挑战！\n",
    "\n",
    "---\n",
    "### 第2题地址[ocr.html](http://www.pythonchallenge.com/pc/def/ocr.html)\n",
    "* <img src=\"http://www.pythonchallenge.com/pc/def/ocr.jpg\" alt=\"ocr.jpg\" width=\"30%\" height=\"30%\">\n",
    "* 图片是一本打开的书\n",
    "* 题目说明是要识别字符（`ocr`就是字符识别嘛），提示`maybe they are in the book, but MAYBE they are in the page source.`\n",
    "* 页面最底下提示可以把URL里面的`pc`改成`pcc`看上一题的答案（其他信息是重复的tips）"
   ]
  },
  {
   "cell_type": "markdown",
   "metadata": {},
   "source": [
    "我暂时也没这么蠢想要对图片做OCR，毕竟清晰度不够。<br>\n",
    "题目提示说要识别的字符在页面源码里嘛，我们用浏览器的[`view-source:`](view-source:http://www.pythonchallenge.com/pc/def/ocr.html)看看。<br>\n",
    "结果发现网页最下面有一小段文字和一超大段乱码：\n",
    "> <!--\n",
    "> find rare characters in the mess below:\n",
    "> --\\><br>\n",
    "> <!--\n",
    "> %%$@_$^__#)^)&!_+]!*@&^}@[@%]()%+$&[(_@%+%$*^@$^!+]!&_#)_*}{}}!}_]$[%}@[{_@#_^{* ...\n",
    "> --\\>"
   ]
  },
  {
   "cell_type": "markdown",
   "metadata": {},
   "source": [
    "看来这个才是真正的题目😅<br>\n",
    "为了不显得那么笨拙，我就没有copy-paste了，使用python爬虫常用的`requests`和`re`模块进行数据获取："
   ]
  },
  {
   "cell_type": "code",
   "execution_count": 1,
   "metadata": {
    "scrolled": true
   },
   "outputs": [],
   "source": [
    "import re\n",
    "import requests\n",
    "response = requests.get('http://www.pythonchallenge.com/pc/def/ocr.html').text\n",
    "messy_str = re.findall(r'<!--(.*?)-->', response, re.DOTALL)[1]"
   ]
  },
  {
   "cell_type": "markdown",
   "metadata": {},
   "source": [
    "根据题目意思，要找出稀有的字符。我们来做个统计："
   ]
  },
  {
   "cell_type": "code",
   "execution_count": 2,
   "metadata": {},
   "outputs": [
    {
     "name": "stdout",
     "output_type": "stream",
     "text": [
      "Counter({')': 6186, '@': 6157, '(': 6154, ']': 6152, '#': 6115, '_': 6112, '[': 6108, '}': 6105, '%': 6104, '!': 6079, '+': 6066, '$': 6046, '{': 6046, '&': 6043, '*': 6034, '^': 6030, '\\n': 1221, 'e': 1, 'q': 1, 'u': 1, 'a': 1, 'l': 1, 'i': 1, 't': 1, 'y': 1})\n"
     ]
    }
   ],
   "source": [
    "from collections import Counter\n",
    "c = Counter(messy_str)\n",
    "print(c)"
   ]
  },
  {
   "cell_type": "markdown",
   "metadata": {},
   "source": [
    "从结果看到，在乱码中**居然**还有几个字母，完善一下将字母取出："
   ]
  },
  {
   "cell_type": "code",
   "execution_count": 3,
   "metadata": {},
   "outputs": [
    {
     "name": "stdout",
     "output_type": "stream",
     "text": [
      "equality\n"
     ]
    }
   ],
   "source": [
    "print(''.join(k for k, v in c.items() if v < 3))"
   ]
  },
  {
   "cell_type": "markdown",
   "metadata": {},
   "source": [
    "用结果输入到URL上[equality.html](http://www.pythonchallenge.com/pc/def/equality.html)，确实是下一题，成功！"
   ]
  },
  {
   "cell_type": "markdown",
   "metadata": {},
   "source": [
    "### 总结：这题也很基础，会网页抓取和正则的话难度会小很多。\n",
    "###### 本题代码地址[2_ocr.ipynb](https://github.com/StevenPZChan/pythonchallenge/blob/notebook/nbfiles/2_ocr.ipynb)"
   ]
  }
 ],
 "metadata": {
  "kernelspec": {
   "display_name": "Python 3",
   "language": "python",
   "name": "python3"
  },
  "language_info": {
   "codemirror_mode": {
    "name": "ipython",
    "version": 3
   },
   "file_extension": ".py",
   "mimetype": "text/x-python",
   "name": "python",
   "nbconvert_exporter": "python",
   "pygments_lexer": "ipython3",
   "version": "3.7.6"
  }
 },
 "nbformat": 4,
 "nbformat_minor": 2
}
