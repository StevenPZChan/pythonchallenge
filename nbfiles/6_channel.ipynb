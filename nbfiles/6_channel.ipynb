{
 "cells": [
  {
   "cell_type": "markdown",
   "metadata": {},
   "source": [
    "继续挑战！从这题就开始考验发散性思维了，逐渐展现出这个挑战的恐怖。。。\n",
    "\n",
    "---\n",
    "### 第6题地址[channel.html](http://www.pythonchallenge.com/pc/def/channel.html)\n",
    "* <img src=\"http://www.pythonchallenge.com/pc/def/channel.jpg\" alt=\"channel.jpg\" width=\"30%\" height=\"30%\">\n",
    "* 网页标题是`now there are pairs`，题目内容为空"
   ]
  },
  {
   "cell_type": "markdown",
   "metadata": {},
   "source": [
    "惯例打开[源码](view-source:http://www.pythonchallenge.com/pc/def/channel.html)，除了最后面说明了是无用信息之外，只有一行隐藏信息：\n",
    "> <!-- <\\-- zip --\\>\n",
    "\n",
    "`zip`正好也是图片中拉链的意思，说明这是个重要提示。而图片文件名叫`channel.jpg`，我们是不是可以试试`channel.zip`："
   ]
  },
  {
   "cell_type": "code",
   "execution_count": 1,
   "metadata": {},
   "outputs": [
    {
     "name": "stdout",
     "output_type": "stream",
     "text": [
      "[<ZipInfo filename='99460.txt' compress_type=deflate file_size=21 compress_size=23>, <ZipInfo filename='99714.txt' compress_type=deflate file_size=21 compress_size=23>, <ZipInfo filename='99775.txt' compress_type=deflate file_size=21 compress_size=23>, <ZipInfo filename='99905.txt' compress_type=deflate file_size=21 compress_size=23>, <ZipInfo filename='readme.txt' compress_type=deflate filemode='-rw-r--r--' file_size=84 compress_size=78>]\n",
      "b'welcome to my zipped list.\\n\\nhint1: start from 90052\\nhint2: answer is inside the zip\\n'\n"
     ]
    }
   ],
   "source": [
    "from io import BytesIO\n",
    "from zipfile import ZipFile\n",
    "import requests\n",
    "channel = requests.get('http://www.pythonchallenge.com/pc/def/channel.zip').content\n",
    "with ZipFile(BytesIO(channel), 'r') as f:\n",
    "    file_list = f.filelist\n",
    "    with f.open('readme.txt', 'r') as f_readme:\n",
    "        read_me = f_readme.read()\n",
    "print(file_list[-5:])\n",
    "print(read_me)"
   ]
  },
  {
   "cell_type": "markdown",
   "metadata": {},
   "source": [
    "可以直接下载回来研究，这里我为了演示就不生成文件了。在zip文件中我们可以看到是一堆`'*****.txt'`和一个`'readme.txt'`文件，每个数字.txt文件里面几乎写的都是`Next nothing is *****`，这里我们就联想到前面的某一题，只不过换成了文件的形式。<br>\n",
    "我们来试一试："
   ]
  },
  {
   "cell_type": "code",
   "execution_count": 2,
   "metadata": {},
   "outputs": [
    {
     "name": "stdout",
     "output_type": "stream",
     "text": [
      "nothing = 46145\n",
      "Collect the comments.\n"
     ]
    }
   ],
   "source": [
    "import re\n",
    "nothing = '90052'\n",
    "with ZipFile(BytesIO(channel), 'r') as f:\n",
    "    while True:\n",
    "        with f.open(nothing + '.txt', 'r') as f_read:\n",
    "            content = f_read.read().decode('utf-8')\n",
    "        result = re.findall(r'next nothing is (\\d+)', content, re.I)\n",
    "        if result:\n",
    "            nothing = result[0]\n",
    "        else:\n",
    "            print('nothing =', nothing)\n",
    "            print(content)\n",
    "            break"
   ]
  },
  {
   "cell_type": "markdown",
   "metadata": {},
   "source": [
    "`comments`，注释？再次打开zip文件一看，注释是空的啊。<br>\n",
    "> **这里就要研究一下zip文件的格式结构了。**<br>\n",
    "> 首先是若干个字节的文件头，记录整个压缩文件的压缩方式、大小等信息<br>\n",
    "> 然后是每个压缩文件的压缩数据<br>\n",
    "> 然后是依次记录每个压缩文件的压缩方式、大小等信息的目录结构信息<br>\n",
    "> 最后是文件结束标志信息<br>\n",
    "\n",
    "其实我们关注的是`comment`注释，它会出现在什么地方呢？首先会出现在文件头中，也就是整个压缩文件的注释信息，就是我们打开文件时看到的空的那个。还会出现在记录每个压缩文件信息的目录结构信息中，在每段信息的最后依次是`文件名+扩展信息+注释信息`（具体可以用记事本打开一个zip文件研究一下）。<br>\n",
    "<br>\n",
    "`'46145.txt'`中说到`'Collect the comments.'`，其实就是想让我们依次收集每一个文件的注释，幸好我们有`ZipInfo`类（`ZipFile`类的构造方法中已经读取读取到了`filelist`列表和`NameToInfo`字典中，也提供了`getinfo(name)`方法供我们按文件名提取出来），我们修改一下代码："
   ]
  },
  {
   "cell_type": "code",
   "execution_count": 3,
   "metadata": {},
   "outputs": [
    {
     "name": "stdout",
     "output_type": "stream",
     "text": [
      "nothing = 46145\n",
      "Collect the comments.\n",
      "****************************************************************\n",
      "****************************************************************\n",
      "**                                                            **\n",
      "**   OO    OO    XX      YYYY    GG    GG  EEEEEE NN      NN  **\n",
      "**   OO    OO  XXXXXX   YYYYYY   GG   GG   EEEEEE  NN    NN   **\n",
      "**   OO    OO XXX  XXX YYY   YY  GG GG     EE       NN  NN    **\n",
      "**   OOOOOOOO XX    XX YY        GGG       EEEEE     NNNN     **\n",
      "**   OOOOOOOO XX    XX YY        GGG       EEEEE      NN      **\n",
      "**   OO    OO XXX  XXX YYY   YY  GG GG     EE         NN      **\n",
      "**   OO    OO  XXXXXX   YYYYYY   GG   GG   EEEEEE     NN      **\n",
      "**   OO    OO    XX      YYYY    GG    GG  EEEEEE     NN      **\n",
      "**                                                            **\n",
      "****************************************************************\n",
      " **************************************************************\n",
      "\n"
     ]
    }
   ],
   "source": [
    "nothing = '90052'\n",
    "comments = b''\n",
    "with ZipFile(BytesIO(channel), 'r') as f:\n",
    "    while True:\n",
    "        comments += f.getinfo(nothing + '.txt').comment\n",
    "        with f.open(nothing + '.txt', 'r') as f_read:\n",
    "            content = f_read.read().decode('utf-8')\n",
    "        result = re.findall(r'next nothing is (\\d+)', content, re.I)\n",
    "        if result:\n",
    "            nothing = result[0]\n",
    "        else:\n",
    "            print('nothing =', nothing)\n",
    "            print(content)\n",
    "            print(comments.decode('utf-8'))\n",
    "            break"
   ]
  },
  {
   "cell_type": "markdown",
   "metadata": {},
   "source": [
    "修改地址为[hockey.html](http://www.pythonchallenge.com/pc/def/hockey.html)，打开后提示\n",
    "> it's in the air. look at the letters.\n",
    "\n",
    "我们发现图画的每个字母都是由同一个字母组成的，提示让我们关注字母，结合前半句，很容易得到结果[oxygen.html](http://www.pythonchallenge.com/pc/def/oxygen.html)，打开后进入下一题！"
   ]
  },
  {
   "cell_type": "markdown",
   "metadata": {},
   "source": [
    "### 总结：这题做起来还是比较麻烦的，毕竟要有不少知识储备。\n",
    "###### 本题代码地址[6_channel.ipynb](https://github.com/StevenPZChan/pythonchallenge/blob/notebook/nbfiles/6_channel.ipynb)"
   ]
  }
 ],
 "metadata": {
  "kernelspec": {
   "display_name": "Python 3",
   "language": "python",
   "name": "python3"
  },
  "language_info": {
   "codemirror_mode": {
    "name": "ipython",
    "version": 3
   },
   "file_extension": ".py",
   "mimetype": "text/x-python",
   "name": "python",
   "nbconvert_exporter": "python",
   "pygments_lexer": "ipython3",
   "version": "3.7.0"
  }
 },
 "nbformat": 4,
 "nbformat_minor": 2
}
