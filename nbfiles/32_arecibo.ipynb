{
 "cells": [
  {
   "cell_type": "markdown",
   "id": "cc226959",
   "metadata": {},
   "source": [
    "继续挑战，开始变得复杂了\n",
    "\n",
    "---\n",
    "### 第32题地址[arecibo.html](http://www.pythonchallenge.com/pc/rock/arecibo.html)\n",
    "* 网页标题是`etch-a-scetch`，题目内容是`Fill in the blanks`，[源码](view-source:http://www.pythonchallenge.com/pc/rock/arecibo.html)里面有隐藏内容：\n",
    "> \\<!-- for warmup.txt -->"
   ]
  },
  {
   "cell_type": "markdown",
   "id": "df7cbe7a",
   "metadata": {},
   "source": [
    "标题`Etch A Sketch`的含义是类似像素画的东西：\n",
    "> Etch A Sketch is a mechanical drawing toy invented by André Cassagnes of France and subsequently manufactured by the Ohio Art Company.\n",
    "> ###### From [wikipedia.org](https://en.wikipedia.org/wiki/Etch_A_Sketch)"
   ]
  },
  {
   "cell_type": "markdown",
   "id": "b4ca2748",
   "metadata": {},
   "source": [
    "而题目本身确实是一个`16x16`的画布，上面隐约画着一支铅笔。画布的每行左边和每列上边都有一串数字。经过画布上点击修改内容，发现这些数字表示的是这一行/列中连续的红色格子的数量组成。\n",
    "这显然是一种叫`数织(nonogram)`的游戏：\n",
    "> 数织是一种逻辑游戏，以猜谜的方式绘画黑白位图。在一个网格中，每一行和列都有一组数，玩家需根据它们来填满或留空格子，最后就可以由此得出一幅图画。例如，“4 8 3”的意思就是指该行或列上有三条独立的线，分别占了4、8和3格，而每条线最少要由一个空格分开。传统上，玩家是以黑色填满格子，和以“×”号标记一定不需要填充的格子。数织是一个NP完全的问题。\n",
    "> ###### From [wikipedia.org](https://zh.wikipedia.org/wiki/%E6%95%B8%E7%B9%94)"
   ]
  },
  {
   "cell_type": "markdown",
   "id": "8cbb1a0f",
   "metadata": {},
   "source": [
    "所以题目应该是那个隐藏内容的文件，我们搞下来看看"
   ]
  },
  {
   "cell_type": "code",
   "execution_count": 1,
   "id": "c796b47a",
   "metadata": {},
   "outputs": [
    {
     "name": "stdout",
     "output_type": "stream",
     "text": [
      "# Dimensions\n",
      "9 9\n",
      "\n",
      "# Horizontal\n",
      "2 1 2\n",
      "1 3 1\n",
      "5\n",
      "\n",
      "7\n",
      "9\n",
      "3\n",
      "\n",
      "2 3 2\n",
      "2 3 2\n",
      "2 3 2\n",
      "\n",
      "# Vertical\n",
      "2 1 3\n",
      "1 2 3\n",
      "3\n",
      "\n",
      "8\n",
      "9\n",
      "8\n",
      "\n",
      "3\n",
      "1 2 3\n",
      "2 1 3\n",
      "\n"
     ]
    }
   ],
   "source": [
    "import requests\n",
    "\n",
    "with requests.Session() as sess:\n",
    "    sess.auth = ('kohsamui', 'thailand')\n",
    "    response = sess.get(\n",
    "        'http://www.pythonchallenge.com/pc/rock/warmup.txt').text\n",
    "    print(response)"
   ]
  },
  {
   "cell_type": "markdown",
   "id": "a151f728",
   "metadata": {},
   "source": [
    "求解这个游戏需要用到`nonogram`的库，我们安装之后试一下："
   ]
  },
  {
   "cell_type": "code",
   "execution_count": 2,
   "id": "869ec650",
   "metadata": {},
   "outputs": [
    {
     "name": "stdout",
     "output_type": "stream",
     "text": [
      "{\n",
      "  \"solution\": [\n",
      "    \"██xx█xx██\",\n",
      "    \"█xx███xx█\",\n",
      "    \"xx█████xx\",\n",
      "    \"x███████x\",\n",
      "    \"█████████\",\n",
      "    \"xxx███xxx\",\n",
      "    \"██x███x██\",\n",
      "    \"██x███x██\",\n",
      "    \"██x███x██\"\n",
      "  ],\n",
      "  \"is_solved\": true,\n",
      "  \"is_unsolvable\": false,\n",
      "  \"has_error\": false,\n",
      "  \"error\": null\n",
      "}\n"
     ]
    }
   ],
   "source": [
    "import json\n",
    "import re\n",
    "import requests\n",
    "import nonogram_cracker\n",
    "\n",
    "def parse_to_problem(text):\n",
    "    rows_constraints = []\n",
    "    cols_constraints = []\n",
    "    key = None\n",
    "    for line in text.splitlines():\n",
    "        if re.match(r'# Dimension', line):\n",
    "            key = 'd'\n",
    "        elif re.match(r'# Horizon', line):\n",
    "            key = 'h'\n",
    "        elif re.match(r'# Vertical', line):\n",
    "            key = 'v'\n",
    "        elif line:\n",
    "            arr = [int(s) for s in line.split()]\n",
    "            if key == 'd':\n",
    "                pass\n",
    "            elif key == 'h':\n",
    "                rows_constraints.append(arr)\n",
    "            elif key == 'v':\n",
    "                cols_constraints.append(arr)\n",
    "    return rows_constraints, cols_constraints\n",
    "\n",
    "\n",
    "with requests.Session() as sess:\n",
    "    sess.auth = ('kohsamui', 'thailand')\n",
    "    response = sess.get(\n",
    "        'http://www.pythonchallenge.com/pc/rock/warmup.txt').text\n",
    "\n",
    "rows, cols = parse_to_problem(response)\n",
    "solution = nonogram_cracker.solve({\n",
    "    'name': 'warmup',\n",
    "    'rows': rows,\n",
    "    'cols': cols,\n",
    "})\n",
    "\n",
    "print(json.dumps(solution, indent=2, ensure_ascii=False))"
   ]
  },
  {
   "cell_type": "markdown",
   "id": "5e014383",
   "metadata": {},
   "source": [
    "是一个`上`箭头。我们来到[up.html](http://www.pythonchallenge.com/pc/rock/up.html)\n",
    "* 网页标题还是`etch-a-scetch`，题目内容告诉我们应该要去解[up.txt](http://www.pythonchallenge.com/pc/rock/up.txt)这个题目。看来刚才只是热身。"
   ]
  },
  {
   "cell_type": "code",
   "execution_count": 3,
   "id": "ddf07a08",
   "metadata": {},
   "outputs": [
    {
     "name": "stdout",
     "output_type": "stream",
     "text": [
      "{\n",
      "  \"solution\": [\n",
      "    \"xxxxxxxxxxxxxxxxxxx███x██xxxxxxx\",\n",
      "    \"xxxxxxxxxxxxxxxxxx████████xxxxxx\",\n",
      "    \"xxxxxxxxxxxxxxxxx██████████xxxxx\",\n",
      "    \"xxxxxxxxxxxxxxxxx███xxx█xx█xxxxx\",\n",
      "    \"xxxxxxxxxxxxxxxxx█████x██x█xxxxx\",\n",
      "    \"xxxxxxxxxxxxxxxxx█████x██x█xxxxx\",\n",
      "    \"xxxxxxxxxxxxxxxx████xxx█xx█xxxxx\",\n",
      "    \"xxxxxxxxxxxxx███████████████xxxx\",\n",
      "    \"xxxxxxxxxxx███████████████████xx\",\n",
      "    \"xxxxxxxxxx██████x██████████████x\",\n",
      "    \"xxxxxxxxx██████xxx█x████████████\",\n",
      "    \"xxxxxxxxx██████xxxxx█x██████████\",\n",
      "    \"xxxxxxxx███████xxx██xx█x████████\",\n",
      "    \"xxxxxxxx██████x█x█x██xxx█x█x█xx█\",\n",
      "    \"xxxxxxxx█████xxx█xx████xxxxxxxx█\",\n",
      "    \"xxxxxxxx█████x████x█x████x█x█x█x\",\n",
      "    \"xxxxxxxx█████xxx█x█xxx████████xx\",\n",
      "    \"xxxxxxxxx█████x██xx█xxx████████x\",\n",
      "    \"xxxxxxxxx██████xx█xx██xxx█x███xx\",\n",
      "    \"xxxxxxxxxx██████x███xx██xxxxx█xx\",\n",
      "    \"xxxxxxxxxxx██████xxx█xxx█████xxx\",\n",
      "    \"█xxxxxxxxxxx██████xx███xxxxxxxxx\",\n",
      "    \"██xxxxxxxxxxx███████xxx██xxxxxxx\",\n",
      "    \"███xx███xxx██████████x████xxxxxx\",\n",
      "    \"█████████x████████████xxxx█xxxxx\",\n",
      "    \"██████████████████████xxxx█xxxxx\",\n",
      "    \"x█████████████████████x████xxxxx\",\n",
      "    \"xx█xx█████████████████xxxx█xxxxx\",\n",
      "    \"xxx██xx████████x█████xxxxx█xxxxx\",\n",
      "    \"xxxxxxxx██xxxxx██xxxxx████xxxxxx\",\n",
      "    \"xxxxxxxxxx█████xx██x█xxx█xxxxxxx\",\n",
      "    \"xxxxxxxxxxxxxxxxxxx█████xxxxxxxx\"\n",
      "  ],\n",
      "  \"is_solved\": true,\n",
      "  \"is_unsolvable\": false,\n",
      "  \"has_error\": false,\n",
      "  \"error\": null\n",
      "}\n"
     ]
    }
   ],
   "source": [
    "with requests.Session() as sess:\n",
    "    sess.auth = ('kohsamui', 'thailand')\n",
    "    response = sess.get(\n",
    "        'http://www.pythonchallenge.com/pc/rock/up.txt').text\n",
    "\n",
    "rows, cols = parse_to_problem(response)\n",
    "solution = nonogram_cracker.solve({\n",
    "    'name': 'up',\n",
    "    'rows': rows,\n",
    "    'cols': cols,\n",
    "})\n",
    "\n",
    "print(json.dumps(solution, indent=2, ensure_ascii=False))"
   ]
  },
  {
   "cell_type": "markdown",
   "id": "d10fc268",
   "metadata": {},
   "source": [
    "是一个卡通`蛇`的样子。等等！我们在玩Python，那当然就是[python.html](http://www.pythonchallenge.com/pc/rock/python.html)了。\n",
    "* 网页标题是`here we go`，题目新线索是`\"Free\" as in \"Free speech\", not as in \"free...`，[源码](view-source:http://www.pythonchallenge.com/pc/rock/python.html)里面没有隐藏内容。"
   ]
  },
  {
   "cell_type": "markdown",
   "id": "b97fe00e",
   "metadata": {},
   "source": [
    "那就搜一下吧。这句话其实是出自于自由软件的定义：\n",
    "> “Free software” means software that respects users' freedom and community. Roughly, it means that the users have the freedom to run, copy, distribute, study, change and improve the software. Thus, “free software” is a matter of liberty, not price. To understand the concept, you should think of “free” as in “free speech,” not as in “free beer.” We sometimes call it “libre software,” borrowing the French or Spanish word for “free” as in freedom, to show we do not mean the software is gratis.\n",
    "> You may have paid money to get copies of a free program, or you may have obtained copies at no charge. But regardless of how you got your copies, you always have the freedom to copy and change the software, even to sell copies.\n",
    "> ###### From [gnu.org](https://www.gnu.org/philosophy/free-sw.html)"
   ]
  },
  {
   "cell_type": "markdown",
   "id": "c2704592",
   "metadata": {},
   "source": [
    "因此答案就是[beer.html](http://www.pythonchallenge.com/pc/rock/beer.html)，来到了下一题。"
   ]
  },
  {
   "cell_type": "markdown",
   "id": "5c86edc0",
   "metadata": {},
   "source": [
    "### 总结：这一题还比较麻烦的，也练习到了一下一些开源三方库的使用。\n",
    "###### 本题代码地址[32_arecibo.ipynb](https://github.com/StevenPZChan/pythonchallenge/blob/notebook/nbfiles/32_arecibo.ipynb)"
   ]
  }
 ],
 "metadata": {
  "kernelspec": {
   "display_name": "Python 3",
   "language": "python",
   "name": "python3"
  },
  "language_info": {
   "codemirror_mode": {
    "name": "ipython",
    "version": 3
   },
   "file_extension": ".py",
   "mimetype": "text/x-python",
   "name": "python",
   "nbconvert_exporter": "python",
   "pygments_lexer": "ipython3",
   "version": "3.7.6"
  }
 },
 "nbformat": 4,
 "nbformat_minor": 5
}
