{
 "cells": [
  {
   "cell_type": "markdown",
   "metadata": {},
   "source": [
    "继续挑战！貌似要开始用到图像处理了。\n",
    "\n",
    "---\n",
    "### 第7题地址[oxygen.html](http://www.pythonchallenge.com/pc/def/oxygen.html)\n",
    "* <img src=\"http://www.pythonchallenge.com/pc/def/oxygen.png\" alt=\"oxygen.png\" width=\"30%\" height=\"30%\">\n",
    "* 网页标题是`smarty`，网页源码中没有隐藏信息"
   ]
  },
  {
   "cell_type": "markdown",
   "metadata": {},
   "source": [
    "看网页标题是`smarty`，自作聪明的人？不懂有什么深层的含义。不过没有其他信息的话，题目应该藏在图中。<br>\n",
    "这张图中间有一条灰黑色跟条形码类似的东东，怀疑就是类似密码的东西，我们先试着把它提取出来。"
   ]
  },
  {
   "cell_type": "code",
   "execution_count": 1,
   "metadata": {},
   "outputs": [
    {
     "name": "stdout",
     "output_type": "stream",
     "text": [
      "Counter({43: 608, 44: 608, 45: 608, 46: 608, 47: 608, 48: 608, 49: 608, 50: 608, 51: 608, 11: 19, 12: 19, 13: 19, 14: 19, 15: 18, 16: 17, 35: 6, 36: 6, 37: 6, 38: 6, 30: 5, 31: 5, 27: 5, 25: 5, 22: 5, 19: 5, 32: 4, 33: 4, 34: 4, 28: 4, 29: 4, 26: 4, 23: 4, 24: 4, 21: 4, 20: 4, 18: 4, 17: 4})\n"
     ]
    }
   ],
   "source": [
    "from collections import Counter\n",
    "from io import BytesIO\n",
    "from itertools import product\n",
    "import requests\n",
    "from PIL import Image\n",
    "\n",
    "response = requests.get('http://www.pythonchallenge.com/pc/def/oxygen.png')\n",
    "img = Image.open(BytesIO(response.content))\n",
    "img_data = img.load()\n",
    "gray_points = {}\n",
    "c = Counter()\n",
    "for x, y in product(range(img.width), range(img.height)):\n",
    "    r, g, b, *_ = img_data[x, y]\n",
    "    # 灰点实际上是RGB三通道值相等\n",
    "    if r == g == b:\n",
    "        gray_points[(x, y)] = r\n",
    "        c[y] += 1\n",
    "print(c)"
   ]
  },
  {
   "cell_type": "markdown",
   "metadata": {},
   "source": [
    "通过上述对y坐标方向的灰点数统计，条形码信息应该是在`y=43-51`的地方。（回想一下标题，应该说的是`smart `**`y`**<br>\n",
    "考虑到每一行的信息应该是相同的，我们只取其中一行看看："
   ]
  },
  {
   "cell_type": "code",
   "execution_count": 2,
   "metadata": {},
   "outputs": [
    {
     "name": "stdout",
     "output_type": "stream",
     "text": [
      "[115, 115, 115, 115, 115, 109, 109, 109, 109, 109, 109, 109, 97, 97, 97, 97, 97, 97, 97, 114, 114, 114, 114, 114, 114, 114, 116, 116, 116, 116]\n"
     ]
    }
   ],
   "source": [
    "hidden_text = [p[1] for p in gray_points.items() if p[0][1] == 43]\n",
    "print(hidden_text[:30])"
   ]
  },
  {
   "cell_type": "markdown",
   "metadata": {},
   "source": [
    "这些数都在65-122之间，像是英文字母的ASCII码，我们转换一下看看："
   ]
  },
  {
   "cell_type": "code",
   "execution_count": 3,
   "metadata": {},
   "outputs": [
    {
     "name": "stdout",
     "output_type": "stream",
     "text": [
      "sssssmmmmmmmaaaaaaarrrrrrrttttttt       ggggggguuuuuuuyyyyyyy,,,,,,,       yyyyyyyooooooouuuuuuu       mmmmmmmaaaaaaadddddddeeeeeee       iiiiiiittttttt.......       ttttttthhhhhhheeeeeee       nnnnnnneeeeeeexxxxxxxttttttt       llllllleeeeeeevvvvvvveeeeeeelllllll       iiiiiiisssssss       [[[[[[[111111100000005555555,,,,,,,       111111111111110000000,,,,,,,       111111111111116666666,,,,,,,       111111100000001111111,,,,,,,       111111100000003333333,,,,,,,       111111111111114444444,,,,,,,       111111100000005555555,,,,,,,       111111111111116666666,,,,,,,       111111122222221111111]]]]]]]]\n"
     ]
    }
   ],
   "source": [
    "print(''.join(chr(i) for i in hidden_text))"
   ]
  },
  {
   "cell_type": "markdown",
   "metadata": {},
   "source": [
    "有点混乱。我们去除一下重复，用正则就好："
   ]
  },
  {
   "cell_type": "code",
   "execution_count": 4,
   "metadata": {},
   "outputs": [
    {
     "name": "stdout",
     "output_type": "stream",
     "text": [
      "smart guy, you made it. the next level is [105, 110, 116, 101, 103, 114, 105, 116, 121]\n"
     ]
    }
   ],
   "source": [
    "import re\n",
    "hidden_text = [chr(p[1]) for p in gray_points.items() if p[0][1] == 43]\n",
    "simplified_text = re.findall(r'(.)\\1{4,6}', ''.join(hidden_text))\n",
    "print(''.join(simplified_text))"
   ]
  },
  {
   "cell_type": "markdown",
   "metadata": {},
   "source": [
    "好吧，再做一次ASCII码转换："
   ]
  },
  {
   "cell_type": "code",
   "execution_count": 5,
   "metadata": {},
   "outputs": [
    {
     "name": "stdout",
     "output_type": "stream",
     "text": [
      "integrity\n"
     ]
    }
   ],
   "source": [
    "next_level = re.findall(r'(\\d+)', ''.join(simplified_text))\n",
    "print(''.join(chr(int(i)) for i in next_level))"
   ]
  },
  {
   "cell_type": "markdown",
   "metadata": {},
   "source": [
    "将网址改成[integrity.html](http://www.pythonchallenge.com/pc/def/integrity.html)，来到下一题。"
   ]
  },
  {
   "cell_type": "markdown",
   "metadata": {},
   "source": [
    "### 总结：图像处理的初级应用，用pillow库就好。了解一些图像的基本知识就还是很容易的。\n",
    "###### 本题代码地址[7_oxygen.ipynb](https://github.com/StevenPZChan/pythonchallenge/blob/notebook/nbfiles/7_oxygen.ipynb)"
   ]
  }
 ],
 "metadata": {
  "kernelspec": {
   "display_name": "Python 3",
   "language": "python",
   "name": "python3"
  },
  "language_info": {
   "codemirror_mode": {
    "name": "ipython",
    "version": 3
   },
   "file_extension": ".py",
   "mimetype": "text/x-python",
   "name": "python",
   "nbconvert_exporter": "python",
   "pygments_lexer": "ipython3",
   "version": "3.7.6"
  }
 },
 "nbformat": 4,
 "nbformat_minor": 2
}
