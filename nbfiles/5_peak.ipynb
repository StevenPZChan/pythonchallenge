{
 "cells": [
  {
   "cell_type": "markdown",
   "metadata": {},
   "source": [
    "继续挑战\n",
    "\n",
    "---\n",
    "### 第5题地址[peak.html](http://www.pythonchallenge.com/pc/def/peak.html)\n",
    "* <img src=\"http://www.pythonchallenge.com/pc/def/peakhell.jpg\" alt=\"peakhell.jpg\" width=\"30%\" height=\"30%\">\n",
    "* 网页标题是`peak hell`，题目是`pronounce it`"
   ]
  },
  {
   "cell_type": "markdown",
   "metadata": {},
   "source": [
    "惯例查看源码[view-source](view-source:http://www.pythonchallenge.com/pc/def/peak.html)，发现有一行注释和一个奇怪的标签：\n",
    "> peak hell sounds familiar<br>\n",
    "> <peakhell src=\"banner.p\"/\\>\n",
    "\n",
    "标签显然不是`html`具有的标签。结合题目内容来看，应该是让我们将`peak hell`读出来，说是应该很熟悉😓"
   ]
  },
  {
   "cell_type": "markdown",
   "metadata": {},
   "source": [
    "其实也没有那么玄，熟悉`python`的话就知道这是个常用的模块，再读不出来熟悉的味道，一打开[banner.p](http://www.pythonchallenge.com/pc/def/banner.p)看到内容格式也就知道了。对，就是序列化的`pickle`模块！<br>\n",
    "不多说，试下看是什么对象："
   ]
  },
  {
   "cell_type": "code",
   "execution_count": 1,
   "metadata": {},
   "outputs": [
    {
     "name": "stdout",
     "output_type": "stream",
     "text": [
      "<class 'list'>\n",
      "[[(' ', 95)], [(' ', 14), ('#', 5), (' ', 70), ('#', 5), (' ', 1)], [(' ', 15), ('#', 4), (' ', 71), ('#', 4), (' ', 1)], [(' ', 15), ('#', 4), (' ', 71), ('#', 4), (' ', 1)], [(' ', 15), ('#', 4), (' ', 71), ('#', 4), (' ', 1)]]\n"
     ]
    }
   ],
   "source": [
    "import pickle\n",
    "import requests\n",
    "response = requests.get('http://www.pythonchallenge.com/pc/def/banner.p').content\n",
    "banner = pickle.loads(response)\n",
    "print(type(banner))\n",
    "print(banner[:5])"
   ]
  },
  {
   "cell_type": "markdown",
   "metadata": {},
   "source": [
    "反序列化成功了，得到一个列表，我们需要分析一下内容的含义。<br>\n",
    "列表的每个元素还是一个列表，而每个元素列表中的每个元素都是一个有两个元素的元组，而第一个元素不是`' '`就是`'#'`，第二个元素是一个整数。<br>\n",
    "再进一步分析可以看出，每个元素列表中的这些数加起来都是**95**！<br>\n",
    "貌似有点头绪了，感觉就像我们刚开始学编程的时候打印字符金字塔那样："
   ]
  },
  {
   "cell_type": "code",
   "execution_count": 2,
   "metadata": {},
   "outputs": [
    {
     "name": "stdout",
     "output_type": "stream",
     "text": [
      "                                                                                               \n",
      "              #####                                                                      ##### \n",
      "               ####                                                                       #### \n",
      "               ####                                                                       #### \n",
      "               ####                                                                       #### \n",
      "               ####                                                                       #### \n",
      "               ####                                                                       #### \n",
      "               ####                                                                       #### \n",
      "               ####                                                                       #### \n",
      "      ###      ####   ###         ###       #####   ###    #####   ###          ###       #### \n",
      "   ###   ##    #### #######     ##  ###      #### #######   #### #######     ###  ###     #### \n",
      "  ###     ###  #####    ####   ###   ####    #####    ####  #####    ####   ###     ###   #### \n",
      " ###           ####     ####   ###    ###    ####     ####  ####     ####  ###      ####  #### \n",
      " ###           ####     ####          ###    ####     ####  ####     ####  ###       ###  #### \n",
      "####           ####     ####     ##   ###    ####     ####  ####     #### ####       ###  #### \n",
      "####           ####     ####   ##########    ####     ####  ####     #### ##############  #### \n",
      "####           ####     ####  ###    ####    ####     ####  ####     #### ####            #### \n",
      "####           ####     #### ####     ###    ####     ####  ####     #### ####            #### \n",
      " ###           ####     #### ####     ###    ####     ####  ####     ####  ###            #### \n",
      "  ###      ##  ####     ####  ###    ####    ####     ####  ####     ####   ###      ##   #### \n",
      "   ###    ##   ####     ####   ###########   ####     ####  ####     ####    ###    ##    #### \n",
      "      ###     ######    #####    ##    #### ######    ###########    #####      ###      ######\n",
      "                                                                                               \n"
     ]
    }
   ],
   "source": [
    "for pat in banner:\n",
    "    print(\"\".join([x[0] * x[1] for x in pat]))"
   ]
  },
  {
   "cell_type": "markdown",
   "metadata": {},
   "source": [
    "改下地址[channel.html](http://www.pythonchallenge.com/pc/def/channel.html)打开，果然是下一题！"
   ]
  },
  {
   "cell_type": "markdown",
   "metadata": {},
   "source": [
    "### 总结：这题是`python`常用模块`pickle`的用法演练，熟悉的话很容易。\n",
    "###### 本题代码地址[5_peak.ipynb](https://github.com/StevenPZChan/pythonchallenge/blob/notebook/nbfiles/5_peak.ipynb)"
   ]
  }
 ],
 "metadata": {
  "kernelspec": {
   "display_name": "Python 3",
   "language": "python",
   "name": "python3"
  },
  "language_info": {
   "codemirror_mode": {
    "name": "ipython",
    "version": 3
   },
   "file_extension": ".py",
   "mimetype": "text/x-python",
   "name": "python",
   "nbconvert_exporter": "python",
   "pygments_lexer": "ipython3",
   "version": "3.7.0"
  }
 },
 "nbformat": 4,
 "nbformat_minor": 2
}
