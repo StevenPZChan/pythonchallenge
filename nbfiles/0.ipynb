{
 "cells": [
  {
   "cell_type": "markdown",
   "metadata": {},
   "source": [
    "#### Copyright (c) 2018 StevenPZChan"
   ]
  },
  {
   "cell_type": "markdown",
   "metadata": {},
   "source": [
    "### start with jupyter notebook form on pythonchallenge.com\n",
    "---\n",
    "### the first challenge is on ['warming up'](http://www.pythonchallenge.com/pc/def/0.html \"#0\")\n",
    "##### the image in webpage shows a television with a picture and three numbers (238) on it\n",
    "##### and below the image shows a hint: try to change the URL address."
   ]
  },
  {
   "cell_type": "code",
   "execution_count": null,
   "metadata": {},
   "outputs": [],
   "source": []
  }
 ],
 "metadata": {
  "kernelspec": {
   "display_name": "Python 2",
   "language": "python",
   "name": "python2"
  },
  "language_info": {
   "codemirror_mode": {
    "name": "ipython",
    "version": 2
   },
   "file_extension": ".py",
   "mimetype": "text/x-python",
   "name": "python",
   "nbconvert_exporter": "python",
   "pygments_lexer": "ipython2",
   "version": "2.7.6"
  }
 },
 "nbformat": 4,
 "nbformat_minor": 0
}
