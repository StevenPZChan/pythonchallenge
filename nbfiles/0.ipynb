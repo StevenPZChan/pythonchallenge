{
 "cells": [
  {
   "cell_type": "markdown",
   "metadata": {},
   "source": [
    "<big>今天开始用*jupyter notebook*的形式来重写一下[python challenge](\"http://www.pythonchallenge.com\")这个古老的`python`解谜网站的解法思路<br>\n",
    "<br>\n",
    "当然，我不是那个可以完全独立解答出来的大神，也是收集了八方的解题经验来结合自己的理解编写出来`python`程序的</big>\n",
    "\n",
    "---"
   ]
  },
  {
   "cell_type": "markdown",
   "metadata": {},
   "source": [
    "#### 第<del>1</del>0题的地址在[warming up](http://www.pythonchallenge.com/pc/def/0.html \"#0\")\n",
    "* <img src=\"http://www.pythonchallenge.com/pc/def/calc.jpg\" alt=\"calc.jpg\" width=\"30%\" height=\"30%\"/>\n",
    "* 图像是一个老式电视机，上面是风景的画面，画面中间有三个数字(2, 3, 8)\n",
    "* 图像下面有一行提示：\n",
    "> try to change the URL address.<br>\n",
    "> 尝试改变URL地址"
   ]
  },
  {
   "cell_type": "markdown",
   "metadata": {},
   "source": [
    "第一个想法（结合标题warming up）就是把URL地址的[`0.html`][0]改成[`1.html`][1]<br>\n",
    "结果如下：\n",
    "> 2**38 is much much larger.\n",
    "\n",
    "[0]: http://www.pythonchallenge.com/pc/def/0.html\n",
    "[1]: http://www.pythonchallenge.com/pc/def/1.html"
   ]
  },
  {
   "cell_type": "markdown",
   "metadata": {},
   "source": [
    "所以这个也还是一个题目，应该跟画面中的数字有关<br>\n",
    "尝试[`238.html`][2]：\n",
    "> No... the 38 is a little bit above the 2...\n",
    "\n",
    "所以应该是2的38次方——[`2**38.html`][3]：\n",
    "> give the answer, not the question.\n",
    "\n",
    "#### 至此就豁然开朗了！\n",
    "---\n",
    "\n",
    "[2]: http://www.pythonchallenge.com/pc/def/238.html\n",
    "[3]: http://www.pythonchallenge.com/pc/def/2**38.html"
   ]
  },
  {
   "cell_type": "code",
   "execution_count": 1,
   "metadata": {},
   "outputs": [
    {
     "name": "stdout",
     "output_type": "stream",
     "text": [
      "274877906944\n"
     ]
    }
   ],
   "source": [
    "print(2 ** 38)"
   ]
  },
  {
   "cell_type": "markdown",
   "metadata": {},
   "source": [
    "URL改成[`274877906944.html`][4]，页面跳转到了[`map.html`][5]<br>\n",
    "这回应该对了吧。还真是warming up :)\n",
    "\n",
    "[4]: http://www.pythonchallenge.com/pc/def/274877906944.html\n",
    "[5]: http://www.pythonchallenge.com/pc/def/map.html"
   ]
  },
  {
   "cell_type": "markdown",
   "metadata": {},
   "source": [
    "### 总结：这个古老的python挑战应该是个网址更改游戏，每一关都是一个网页，根据页面提示得到下一关的网址。\n",
    "<small>事实上，这一关的图片名称叫`calc.jpg`，这也是一个提示，以后的题目里面会用得到这种信息的。</small>\n",
    "###### 本题代码地址[`0.ipynb`](https://github.com/StevenPZChan/pythonchallenge/blob/notebook/nbfiles/0.ipynb)"
   ]
  }
 ],
 "metadata": {
  "kernelspec": {
   "display_name": "Python 3",
   "language": "python",
   "name": "python3"
  },
  "language_info": {
   "codemirror_mode": {
    "name": "ipython",
    "version": 3
   },
   "file_extension": ".py",
   "mimetype": "text/x-python",
   "name": "python",
   "nbconvert_exporter": "python",
   "pygments_lexer": "ipython3",
   "version": "3.7.0"
  }
 },
 "nbformat": 4,
 "nbformat_minor": 1
}
